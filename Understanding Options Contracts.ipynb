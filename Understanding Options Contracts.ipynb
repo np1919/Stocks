{
 "cells": [
  {
   "cell_type": "markdown",
   "id": "6ab250b2",
   "metadata": {},
   "source": [
    "November 2021 \n",
    "\n",
    "In this notebook:\n",
    "\n",
    "- APIs\n",
    "- lots of setters, and the @property decorator; no deleters or \\_\\_eq__\n",
    "- inheritance?\n",
    "- some stock knowledge, take a read..."
   ]
  },
  {
   "cell_type": "markdown",
   "id": "c4974fb1",
   "metadata": {},
   "source": [
    "Option Contracts\n",
    "---"
   ]
  },
  {
   "cell_type": "markdown",
   "id": "db20c0ae",
   "metadata": {},
   "source": [
    "`Option Contracts` can be a bit complicated to understand. \n",
    "\n",
    "Their value is **derived from an underlying asset**, for example the price of a stock, and represent the right to buy or sell some quantity of that asset (in general, **100 shares** of the underlying stock) at a future date (**the expiry date**), at a set price (**the 'strike price'**). \n",
    "\n",
    "Therefore, each contract has **a purchase price** (premium paid for the ownership of the contract), as well as **an intrinsic value** (the difference between the market price and the strike price * 100) which is reliant on a condition --**that the contract be 'in the money' at time of expiry.- ** \n",
    "\n",
    "\n",
    "### Extrinsic and Intrinsic Value\n",
    "\n",
    "Options Contracts only have market value (`extrinsic value`) if they have `intrinsic value`; a delta between the current share price and the `strike price` of the contract. \n",
    "\n",
    "The market value is the `premium`; the price to purchase a contract -- or to sell one. \n",
    "\n",
    "The `intrinsic value` is only accessible if a contract is `in the money`:\n",
    "\n",
    "- A `call contract` is 'in the money' when the stock price is *above* the strike price.\n",
    "\n",
    "- A `put contract` is 'in the money' when the stock price is *below* the strike price.\n",
    "\n",
    "\n",
    "### Understanding Ownership\n",
    "\n",
    "If a contract is NOT in the money, it expires worthless, and the only gain or loss in value is the premium paid for it. We'll get to that in a second, but first, remember:\n",
    "\n",
    "- The *purchaser* (owner) of the contract receives the intrinsic value, at expiry. They pay a premium to buy the contract.\n",
    "\n",
    "- The *seller* (or writer) of the contract pays the intrinsic value, at expiry. They received a premium to sell the contract.\n"
   ]
  },
  {
   "cell_type": "markdown",
   "id": "80f7920e",
   "metadata": {},
   "source": [
    "### I'd put money it falls...\n",
    "                ### I call that bet!\n",
    "\n",
    "And so, if **I sold (or wrote)** a `put` contract, I would be selling someone the right to **sell me 100 shares** at the strike price. If I sold a `call`, I would be selling someone the right to **purchase 100 shares from me** at the strike price. \n",
    "\n",
    "**Problem: In order to effectively calculate the returns/losses on an options contract, we must take into account this transaction of shares -- as well as the margin required to perform these transactions.**\n",
    "\n",
    "We could calculate the returns directly, but I feel that is short-sighted, because we need to hold and reserve `margin shares` in the case of a written `call`; or `reserve capital` when we write a `put`; to cover our potential losses with the broker.\n",
    "\n",
    "We should have some sort of container for our `Holdings`..."
   ]
  },
  {
   "cell_type": "markdown",
   "id": "33d81e23",
   "metadata": {},
   "source": [
    "### Package class Objects"
   ]
  },
  {
   "cell_type": "markdown",
   "id": "17fa001d",
   "metadata": {},
   "source": [
    "To accomplish this task, I propose the following structure:\n",
    "    \n",
    "- a `Portfolio` class which can 'hold' shares of different stocks. This layer could have portfolio optimization functionality. Each Portfolio could rely on a different trading strategy, ie. momentum, growth, etc.\n",
    "\n",
    "- a `Holdings` class which handles the acquisition or sale of all stock-specific assets inside the Portfolio. This layer contains information about the given stock -- past statistics/trends, buy or sell signals, sector, etc. This object should have a reference for `shares held`.\n",
    "\n",
    "- an `OptionContract` class which handles the value logic of an options contract for a related asset (the `Holdings` object will contain the options spreads, taken from the `yfinance` API.)"
   ]
  },
  {
   "cell_type": "markdown",
   "id": "c486f6a6",
   "metadata": {},
   "source": [
    "# OptionContract object\n"
   ]
  },
  {
   "cell_type": "code",
   "execution_count": null,
   "id": "e2a55ed7",
   "metadata": {
    "code_folding": []
   },
   "outputs": [],
   "source": [
    "# importing modules\n",
    "import pandas as pd\n",
    "import numpy as np\n",
    "import yfinance as yf\n",
    "\n",
    "import matplotlib.pyplot as plt\n",
    "plt.rcParams['figure.figsize'] = (4,3)\n",
    "plt.style.use('ggplot')"
   ]
  },
  {
   "cell_type": "code",
   "execution_count": 64,
   "id": "da2e8622",
   "metadata": {
    "code_folding": []
   },
   "outputs": [],
   "source": [
    "class OptionContract(): \n",
    "    '''a stock-related asset, with an extrinsic and an intrinsic value\n",
    "    # 1 - extrinsic\n",
    "     - the initial cost or credit\n",
    "     \n",
    "    # 2 - intrinsic\n",
    "     - the intrinsic value represents the value of 100 shares at the strike price, if purchased, and in the money.\n",
    "     - represents the negative value of 100 shares at the strike price, if sold, and in the money.\n",
    "     - otherwise if not 'in the money', the intrinsic value is 0. \n",
    "     \n",
    "    ## functionality ##\n",
    "     - redefines it's intrinsic value (based on the state of the underlying Holdings object)\n",
    "         - accepts mutations of its market_price value.\n",
    "     - returns self.value, when called.\n",
    "     \n",
    "    '''\n",
    "                                            # TODO: instead of market_price, pass the bound Holdings object.\n",
    "                                            # implement a change to the holdings_object's value, and shares.\n",
    "                                            # use .pop()?\n",
    "                                            # also inherit the ticker!\n",
    "                    \n",
    "    def __init__(self, premium, strike_price, market_price, contract_size=100, writer=True, call=True):\n",
    "        # calculating extrinsic value...\n",
    "        self._writer = writer\n",
    "        self.contract_size = contract_size\n",
    "        self._extrinsic_value = None # initialize for conditional logic\n",
    "        \n",
    "        ### upon purchase or sale... change the static value of this contract:\n",
    "        # determine initial credit or debit:\n",
    "        if self._writer == True: # if sold\n",
    "            self.extrinsic_value = (premium * contract_size)\n",
    "        elif self._writer == False: # if purchased\n",
    "            self.extrinsic_value = -1 * (premium * contract_size)\n",
    "        #self._extrinsic_value now indicates the premium --> a negative value, if writer==False.\n",
    "#         print(self._extrinsic_value)\n",
    "        \n",
    "        # reference variables\n",
    "#         self.premium = premium\n",
    "        self.contract_size = contract_size\n",
    "        \n",
    "\n",
    "        # assign necessary variables\n",
    "        self._strike_price = strike_price\n",
    "        self._market_price = market_price     ## inherit from a Holdings.market_price?\n",
    "        self._call = call # True, if the contract is a call. \n",
    "                         # False, if the contract is a put.\n",
    "        \n",
    "        # call properties to set them...(? i believe this is necessary.)\n",
    "        self.inthemoney\n",
    "        self.intrinsic_value\n",
    "        \n",
    "    # Intrinsic value logic... \n",
    "    # determine the intrinsic value. First, derive whether the contract is in the money.\n",
    "    # This depends on what kind of contract it is; a call, or a put.\n",
    "    #inthemoney\n",
    "    @property \n",
    "    def inthemoney(self): \n",
    "        # for calls\n",
    "        if (self.call == True) and self.market_price >= self._strike_price:\n",
    "            self._inthemoney = True \n",
    "        if (self.call == True) and self.market_price < self._strike_price:\n",
    "            self._inthemoney = False\n",
    "        \n",
    "        # for puts\n",
    "        if (self.call == False) and self.market_price > self._strike_price:\n",
    "            self._inthemoney = False\n",
    "        if (self.call == False) and self.market_price <= self._strike_price:\n",
    "            self._inthemoney = True\n",
    "        return self._inthemoney\n",
    "    \n",
    "        # then calculate the intrinsic value, conditional on the inthemoney attribute\n",
    "    # intrinsic_value\n",
    "    @property\n",
    "    def intrinsic_value(self):\n",
    "        self.inthemoney # run the check(?)\n",
    "        # if the contract is 'active'...\n",
    "        if self.inthemoney == True:\n",
    "            # it has an intrinsic value..\n",
    "            curr_val = (self.contract_size * self._market_price)\n",
    "            # calculate the difference with the strike price..\n",
    "            strike_val = (self.contract_size * self._strike_price)\n",
    "            delta = abs(strike_val - curr_val)\n",
    "            \n",
    "            # determine the value based on contract ownership and type...\n",
    "            if (self._call == True) and (self.writer==False):\n",
    "                # you bought the call\n",
    "                self._intrinsic_value = delta \n",
    "            if (self._call == False) and (self.writer==False):\n",
    "                # you bought the put\n",
    "                self._intrinsic_value = delta\n",
    "         \n",
    "            if (self._call == True) and (self.writer==True):\n",
    "                # you sold the call --> you already had margin shares.\n",
    "                self._intrinsic_value = -1 * delta\n",
    "            if (self._call == False) and (self.writer==True):\n",
    "                # you sold the put --> you have to buy the shares at that price!\n",
    "                # for now, assume you would sell those shares immediately (at that loss). \n",
    "                # Later we can look at adding the shares.\n",
    "                self._intrinsic_value =  -1 * delta\n",
    "        else:\n",
    "            return 0 \n",
    "        return self._intrinsic_value  \n",
    "\n",
    "    @intrinsic_value.setter\n",
    "    def intrinsic_value(self, newval):\n",
    "        self._intrinsic_value = newval\n",
    "    \n",
    "        # Attribute Getters/Setters\n",
    "    # writer\n",
    "    @property\n",
    "    def writer(self):\n",
    "        return self._writer\n",
    "    # call\n",
    "    @property\n",
    "    def call(self):\n",
    "        return self._call\n",
    "    \n",
    "    #extrinsic_value\n",
    "    @property\n",
    "    def extrinsic_value(self):\n",
    "        return self._extrinsic_value\n",
    "    @extrinsic_value.setter\n",
    "    def extrinsic_value(self, newval):\n",
    "        self._extrinsic_value = newval\n",
    "    \n",
    "    @property\n",
    "    def market_price(self):\n",
    "        return self._market_price\n",
    "    @market_price.setter\n",
    "    def market_price(self, newprice):\n",
    "        self._market_price = newprice\n",
    "        \n",
    "    @property\n",
    "    def value(self):\n",
    "        return self._extrinsic_value + self.intrinsic_value\n",
    "    \n",
    "    def __repr__(self):\n",
    "        return  str(('Written' if self._writer==True else 'Purchased')) \\\n",
    "                + str(self._strike_price) \\\n",
    "                + str(('Call' if self._call==True else 'Put'))\n",
    "    \n",
    "    \n",
    "    \n",
    "    def plot_contract(self, low, high, step, plot_me=True, return_me=False, alpha=1):\n",
    "        curr_price = self.market_price\n",
    "        values = []\n",
    "        pricerange = np.arange(low, high, step)\n",
    "        for price in pricerange:\n",
    "            self.market_price = price\n",
    "            values.append(self.value)\n",
    "        \n",
    "        if plot_me==True:\n",
    "            plt.title(('Bought' if self.writer==False else 'Written', 'Call' if self.call==True else 'Put'))\n",
    "            plt.scatter(pricerange, values, alpha=alpha)\n",
    "        if return_me==True:\n",
    "            return values\n",
    "        # reset market_price \n",
    "        self.market_price = curr_price"
   ]
  },
  {
   "cell_type": "markdown",
   "id": "d8e4bddd",
   "metadata": {},
   "source": [
    "These contracts are independent entities, which can be plot independently. Below, we will associate them with real options prices, for a specific stock.\n",
    "\n",
    "We must also account for shares already held (as well as margin shares), in order to have a useful tool."
   ]
  },
  {
   "cell_type": "markdown",
   "id": "58ca176f",
   "metadata": {},
   "source": [
    "## Demonstration"
   ]
  },
  {
   "cell_type": "markdown",
   "id": "93f68959",
   "metadata": {},
   "source": [
    "Here we will sell a put contract -- remember, that's the right to sell shares at the strike price, even if they fall."
   ]
  },
  {
   "cell_type": "code",
   "execution_count": 65,
   "id": "cc72b472",
   "metadata": {
    "code_folding": [],
    "scrolled": true
   },
   "outputs": [
    {
     "data": {
      "text/plain": [
       "52.0"
      ]
     },
     "execution_count": 65,
     "metadata": {},
     "output_type": "execute_result"
    }
   ],
   "source": [
    "soldput = OptionContract(premium=2.12, strike_price=10, market_price=8.4, writer=True, call=False,) \n",
    "soldput.value # current value, given the above market- and strike-price, and premium"
   ]
  },
  {
   "cell_type": "markdown",
   "id": "90b1e0a1",
   "metadata": {},
   "source": [
    "In this scenario, we get paid \\\\$212 dollars for the contract, up front. That's the premium, or extrinsic value. The unknown other in the transactions receives the right to sell 100 of their shares (currently worth \\\\$840 dollars) TO US for \\\\$1000 at the contract's expiry. If the share price stayed totally still, we'd be up \\\\$52 --> \\\\$840 + \\\\$212 - \\\\$1000.\n",
    "\n",
    "If the stock went to \\\\$5 however -- **we got it wrong**:"
   ]
  },
  {
   "cell_type": "code",
   "execution_count": 66,
   "id": "daafaf8e",
   "metadata": {},
   "outputs": [
    {
     "data": {
      "text/plain": [
       "-288.0"
      ]
     },
     "execution_count": 66,
     "metadata": {},
     "output_type": "execute_result"
    }
   ],
   "source": [
    "soldput.market_price = 5\n",
    "soldput.value"
   ]
  },
  {
   "cell_type": "markdown",
   "id": "320bb7a6",
   "metadata": {
    "scrolled": true
   },
   "source": [
    "Since we've agreed to purchase shares at \\\\$10, we lose more if the price drops too far. \n",
    "\n",
    "If instead we had bought the put, we would have benefited from this price drop.\n",
    "\n",
    "Remember, Call contracts are only profitable if the stock price at expiry is *above* the strike price.\n",
    "\n",
    "Since we're dealing with puts here, remember that they are only profitable if the stock price is *below* the strike price.\n",
    "\n",
    "We don't own the contract, we are bound to the contract as it's writer -- and so as the stock price drops; the intrinsic value of the contract rises; and we have to pay up more bucks."
   ]
  },
  {
   "cell_type": "markdown",
   "id": "bf7e96f8",
   "metadata": {},
   "source": [
    "---\n",
    "\n",
    "**Since this is a put contract we wrote and sold**, we have agreed to purchase the underlying shares from the contract holder at the strike price (\\\\$10).\n",
    "\n",
    "**As the price of the asset rises towards the strike price**, it's intrinsic value drops.\n",
    "\n",
    "**As the price of the asset drops away from the strike price**, we stand to lose more money. This is because we've agreed to purchase the shares at the strike price, \\\\$10. Since this risk is open-ended, it must be supplemented at the broker with some sort of margin.\n",
    "\n",
    "**If the price of the asset is at or above the strike price** of the contract, at the expiry of the contract, we make maximum profit -- the premium on our sold contract.\n",
    "\n",
    "The reverse would be true in all cases if we had **purchased and owned** the contract. "
   ]
  },
  {
   "cell_type": "markdown",
   "id": "653adbe4",
   "metadata": {
    "code_folding": [],
    "scrolled": true
   },
   "source": [
    "# plotting soldput"
   ]
  },
  {
   "cell_type": "code",
   "execution_count": 67,
   "id": "72747203",
   "metadata": {
    "code_folding": [],
    "scrolled": false
   },
   "outputs": [
    {
     "data": {
      "image/png": "[encoded data removed]",
      "text/plain": [
       "<Figure size 1152x288 with 1 Axes>"
      ]
     },
     "metadata": {},
     "output_type": "display_data"
    }
   ],
   "source": [
    "def plot_contract(contract, low, high):\n",
    "    premium = contract.extrinsic_value\n",
    "    values = []\n",
    "    price_range = np.arange(low, high, 0.1)\n",
    "    for i in price_range: # iterate through price values\n",
    "        contract.market_price = i\n",
    "        values.append(contract.value)\n",
    "    plt.figure(figsize=(16, 4))\n",
    "    plt.title(f'{contract}')\n",
    "\n",
    "    plt.plot(price_range, values, color='blue')\n",
    "    plt.axhline(premium, color='green', ls='--')\n",
    "    plt.axhline(0, color='black')\n",
    "\n",
    "plot_contract(soldput, 5, 15)"
   ]
  },
  {
   "cell_type": "markdown",
   "id": "72327eb5",
   "metadata": {},
   "source": [
    "At any price point where the contract is exercised and we are forced to purchase 100 shares of the underlying asset, we would like to interact with our Holdings object in a particular way.\n",
    "    \n",
    "    - This interaction should be initially designed to be user-friendly.\n",
    "    - If the basic purpose is to examine the risk and reward of options contracts:\n",
    "        - we will be calling this interaction to calculate the value of the Holdings over a range of market_prices\n",
    "        - \n",
    "\n",
    "\n",
    "If there was a margin for sold puts, it would entail having sufficient capital to purchase the entirety of the contract, and acquiring the underlying shares (to be held in the Holdings object)."
   ]
  },
  {
   "cell_type": "markdown",
   "id": "d3e13e1a",
   "metadata": {},
   "source": [
    "# plotting soldcall"
   ]
  },
  {
   "cell_type": "code",
   "execution_count": 69,
   "id": "ed20076f",
   "metadata": {
    "code_folding": [],
    "scrolled": true
   },
   "outputs": [
    {
     "data": {
      "image/png": "[encoded data removed]",
      "text/plain": [
       "<Figure size 1152x432 with 1 Axes>"
      ]
     },
     "metadata": {},
     "output_type": "display_data"
    }
   ],
   "source": [
    "# margin shares with a sold call; purchased at the initial market_price ($8); including premium($150) \n",
    "soldcall =  OptionContract(premium=1.5, strike_price=10, market_price=8, writer=True, call=True,) \n",
    "\n",
    "\n",
    "\n",
    "def plot_sold_call(contract):\n",
    "    margin_cost = contract.market_price * 100 # the price of margin shares\n",
    "                                            # could also represent the reserve capital\n",
    "    premium = contract.extrinsic_value  # most of the profit...\n",
    "    \n",
    "    ## recording values over price range\n",
    "    share_value = []\n",
    "    contract_value = []\n",
    "    total_value = []\n",
    "    price_range = np.arange(0, 15, 0.1) # TODO: non-naive from Holdings\n",
    "    \n",
    "    \n",
    "    ## iterating through market_prices\n",
    "    plt.title(contract)\n",
    "    for i in price_range: # iterate through price values\n",
    "        contract.market_price = i\n",
    "        contract_value.append(contract.value)\n",
    "        share_value.append(100 * contract.market_price)\n",
    "        total_value.append(contract.value + (100*contract.market_price))\n",
    "        \n",
    "#     plt.plot(price_range, share_value, label= 'share value', ls=':')\n",
    "#     plt.plot(price_range, contract_value, label='contract value', color='purple')\n",
    "    plt.plot(price_range, total_value, label='intrinsic value', ls='dashdot', color='blue')\n",
    "    \n",
    "    plt.axhline(margin_cost, color='green', ls='--', label=f'margin cost {margin_cost}')\n",
    "\n",
    "    plt.axhline((margin_cost - premium), color='red', ls='--', label=f'break even ({margin_cost - premium}) share_cost + premium')\n",
    "    plt.axhline(0, color='black')\n",
    "    plt.yticks()\n",
    "    plt.legend()\n",
    "    plt.show()\n",
    "    \n",
    "plt.subplots(figsize=(16,6))\n",
    "plot_sold_call(soldcall)"
   ]
  },
  {
   "cell_type": "markdown",
   "id": "db3d8391",
   "metadata": {},
   "source": [
    "Note that the increase in the value of our shares is directly proportionate to the reduction in the value of our contract.\n",
    "\n",
    "The difference here lies in the required capital necessary to make this transaction.\n",
    "\n",
    "Our 'entry point' for purchased shares determines the overall profitability"
   ]
  },
  {
   "cell_type": "markdown",
   "id": "d2189b37",
   "metadata": {},
   "source": [
    "Problem: Accounting for Margin Shares\n",
    "---"
   ]
  },
  {
   "cell_type": "markdown",
   "id": "7d070e8f",
   "metadata": {},
   "source": [
    "Each contract has different steps to calculate its value at resolution:\n",
    "\n",
    "    Calls:\n",
    "        Written :\n",
    "            We must have margin shares to appease the broker\n",
    "        Purchased :\n",
    "            We will 'call away' the shares at the strike price\n",
    "    Puts:\n",
    "        Written:\n",
    "            We must have sufficient capital to purchase the shares at the strike price\n",
    "        Purchased:\n",
    "            We will sell shares at the strike price"
   ]
  },
  {
   "cell_type": "markdown",
   "id": "c93c4ab2",
   "metadata": {},
   "source": [
    "So, when we write a call, we need to purchase shares at the current market price and reflect their value in our analysis as well.\n",
    "\n",
    "Moreover, to validate the purchase or sale of a contract, we need to have sufficient capital allocated to the stock."
   ]
  },
  {
   "cell_type": "markdown",
   "id": "1fe16034",
   "metadata": {},
   "source": [
    "# Holdings object"
   ]
  },
  {
   "cell_type": "code",
   "execution_count": 70,
   "id": "712dda37",
   "metadata": {
    "code_folding": [
     44,
     47,
     50
    ]
   },
   "outputs": [],
   "source": [
    "class Holdings():\n",
    "    '''\n",
    "    loads relevant data about a given stock\n",
    "    \n",
    "    elegantly handles contract and share purchases\n",
    "        \n",
    "    - allow purchasing/selling of the underlying stock\n",
    "    - allow purchasing(and resolution?) of contracts\n",
    "        - require margin shares for written calls; their value will increase as market_price increases.\n",
    "        - 'settle' any written puts by purchasing shares at strike, if in the money --> \n",
    "                                this requires restructuring of the logic in OptionsContract\n",
    "\n",
    "    accepts:\n",
    "    ticker : valid yfinance ticker\n",
    "        option_dates : 0-indexed options 'dates', available through yfinance\n",
    "    returns:\n",
    "        calls:\n",
    "        puts:  options sheets for the stock\n",
    "        \n",
    "        value: the total value of capital, shares held, and contracts at the current market_price\n",
    "    \n",
    "    '''\n",
    "    def __init__(self, ticker):\n",
    "        \n",
    "        # stock information\n",
    "        self._ticker = ticker\n",
    "        self.stock = yf.Ticker(ticker)\n",
    "        self._market_price = self.stock.info['previousClose']\n",
    "        print(f'fetched data for {self._ticker}...yesterdays price: {self._market_price}')             \n",
    "\n",
    "        # options stuff\n",
    "        self.option_dates = list(self.stock.options)\n",
    "        self.option_date = 0 # zero-indexing into option_dates\n",
    "        self.opt = self.stock.option_chain(self.option_dates[self.option_date]) # initialize at 0\n",
    "        self.calls = self.opt.calls.copy()\n",
    "        self.puts = self.opt.puts.copy()\n",
    "              \n",
    "        # container attributes\n",
    "        self.capital = 0 # debit this when purchasing shares or contracts; \n",
    "                         # credit this when writing contracts or selling shares;\n",
    "        self._shares = 0\n",
    "        self.contracts = [] # to hold 'OptionContract' objects...\n",
    "        \n",
    "    @property\n",
    "    def ticker(self):\n",
    "        return self._ticker\n",
    "    @property\n",
    "    def market_price(self):\n",
    "        return self._market_price\n",
    "    @market_price.setter\n",
    "    def market_price(self, newprice):\n",
    "        self._market_price = newprice\n",
    "        # adjust the market price (therefore intrinsic value) of contract objects held;\n",
    "        for x in self.contracts:\n",
    "            x.market_price = newprice\n",
    "    \n",
    "    # capital\n",
    "#     @property\n",
    "#     def capital(self):\n",
    "#         return self._capital\n",
    "#     @capital.setter\n",
    "#     def capital(self, value):\n",
    "#         assert self._capital + value >= 0, 'capital less than 0'\n",
    "#         self.capital = self._capital + value\n",
    "        \n",
    "        \n",
    "    @property\n",
    "    def intrinsic_value(self): # the worth of shares plus the worth of contracts, given a set market_price\n",
    "        return round((self._shares * self._market_price) + sum([x.value for x in self.contracts]), 2)\n",
    " \n",
    "    @property\n",
    "    def shares(self):\n",
    "        return self._shares\n",
    "    @shares.setter\n",
    "    def shares(self, newval): #newval IS self.shares, when assigning using +=\n",
    "        assert newval >= 0, 'You cannot have negative share count'\n",
    "        self._shares = newval\n",
    "    \n",
    "\n",
    "    @property\n",
    "    def value(self):     \n",
    "        return (self.intrinsic_value + self.capital)\n",
    "    \n",
    "    def buy_shares(self, num_shares):\n",
    "        cost = num_shares * self.market_price # adjust capital based on current market_price -->\n",
    "        assert self.capital - cost >= 0, f\"not enough to purchase {num_shares} of {self.ticker}\"\n",
    "        self.shares = self.shares + num_shares\n",
    "        self.capital = self.capital - cost\n",
    "        print(f'buying {num_shares} at {self.market_price} for {cost}')\n",
    "\n",
    "    def sell_shares(self, num_shares):\n",
    "        cost = num_shares * self.market_price\n",
    "        assert self.shares - num_shares >= 0, f'cannot sell {num_shares}, only {self.shares} available.'\n",
    "        self.shares = self.shares - num_shares\n",
    "        self.capital = self.capital + cost\n",
    "        print(f'selling {num_shares} at {self.market_price} for {cost}')\n",
    "    \n",
    "    @property\n",
    "    def req_margin_shares(self):\n",
    "        sold_calls = len([x for x in self.contracts if (x.writer == True) and (x.call==True)])\n",
    "        return 100 * sold_calls\n",
    "\n",
    "    def add_contract(self, strike_price, call=True, writer=True):\n",
    "#         if (writer == True) and (call==True):\n",
    "#             assert self.req_margin_shares >= self.shares, 'you must have sufficient shares to cover margin'\n",
    "        calls = self.calls\n",
    "        puts = self.puts \n",
    "        \n",
    "        if call==True:\n",
    "            # find the premium. TODO: take the mean of ask/bid\n",
    "            premium = float(calls[calls['strike'] == strike_price]['lastPrice'].values)\n",
    "            if writer == True:\n",
    "                print(f'you agreed to sell 100 shares of {self.ticker} at {strike_price}, and earned {premium*100}')\n",
    "                print(f'you need to have 100 shares available to sell; you will receive {strike_price * 100} for this transaction')\n",
    "                self.contracts.append(OptionContract(premium, strike_price, self.market_price, call=True, writer=True))    \n",
    "            elif writer == False:\n",
    "                print(f'you purchased the right to sell 100 shares of {self.ticker} at {strike_price}, for {premium*100}')\n",
    "                self.contracts.append(OptionContract(premium, strike_price, self.market_price, call=True, writer=False))\n",
    "\n",
    "            \n",
    "        elif call==False:\n",
    "            premium = float(puts[puts['strike'] == strike_price]['lastPrice'].values)      \n",
    "            if writer == True:\n",
    "                print(f'you agreed to buy 100 shares of {self.ticker} at {strike_price}, and earned {premium*100}')\n",
    "                print(f'you need to have capital available to make this purchase. it will cost {strike_price * 100} and you will receive 100 shares')\n",
    "                self.contracts.append(OptionContract(premium, strike_price, self.market_price, call=False, writer=True)) \n",
    "            elif writer == False:\n",
    "                print(f'you purchased the right to sell 100 shares of {self.ticker} at {strike_price} for {premium*100}')\n",
    "                self.contracts.append(OptionContract(premium, strike_price, self.market_price, call=False, writer=False))\n",
    "\n",
    "        \n",
    "    def resolve_contracts():\n",
    "        prior_price = self.market_price # to reset after spread.\n",
    "        for idx, contract in enumerate(self.contracts):\n",
    "            self.contracts.pop(idx)\n",
    "            \n",
    "            if contract.inthemoney == True:\n",
    "                \n",
    "                if contract.writer == True: # sold contract \n",
    "                    \n",
    "                    if contract.call == True:\n",
    "                        self.market_price = contract._strike_price\n",
    "                        self.sell_shares(100)\n",
    "                    elif contract.call == False:\n",
    "                        self.market_price = contract._strike_price\n",
    "                        self.buy_shares(100)\n",
    "                        \n",
    "                elif contract.writer == False: # bought contract\n",
    "                    \n",
    "                    if contract.call == True:\n",
    "                        self.market_price = contract._strike_price\n",
    "                        self.buy_shares(100)\n",
    "                    elif contract.call == False:\n",
    "                        self.market_price = contract._strike_price\n",
    "                        self.sell_shares(100)\n",
    "                        \n",
    "        self.market_price = prior_price\n",
    "\n",
    "#     def reset_object(self, capital=2500):\n",
    "#         'reset the extrinsic value, shares, and contracts of a Holdings object'\n",
    "#         self.shares = 0\n",
    "#         self.contracts.clear()\n",
    "#         self.capital = capital\n",
    "\n",
    "#         self._market_price = 8.94 #self.stock.info['previousClose']\n",
    "    \n",
    "    def __repr__(self):\n",
    "        return str(self._ticker) + \" Holdings\"\n",
    "    "
   ]
  },
  {
   "cell_type": "code",
   "execution_count": 71,
   "id": "127dfcf0",
   "metadata": {
    "scrolled": true
   },
   "outputs": [
    {
     "name": "stdout",
     "output_type": "stream",
     "text": [
      "fetched data for SLI...yesterdays price: 6.96\n",
      "buying 100 at 6.96 for 696.0\n"
     ]
    },
    {
     "data": {
      "text/plain": [
       "(104.0, 696.0, 800.0)"
      ]
     },
     "execution_count": 71,
     "metadata": {},
     "output_type": "execute_result"
    }
   ],
   "source": [
    "SLI = Holdings('SLI')\n",
    "# allocate capital\n",
    "SLI.capital = 800\n",
    "# buy shares\n",
    "SLI.buy_shares(100)\n",
    "\n",
    "SLI.capital, SLI.intrinsic_value, SLI.value\n",
    "# the free capital, intrinsic value, and total value of our Holdings object: the value of all shares and contracts;"
   ]
  },
  {
   "cell_type": "code",
   "execution_count": 72,
   "id": "47910da8",
   "metadata": {},
   "outputs": [
    {
     "data": {
      "text/plain": [
       "100"
      ]
     },
     "execution_count": 72,
     "metadata": {},
     "output_type": "execute_result"
    }
   ],
   "source": [
    "SLI.shares"
   ]
  },
  {
   "cell_type": "code",
   "execution_count": 73,
   "id": "4f784b90",
   "metadata": {},
   "outputs": [
    {
     "name": "stdout",
     "output_type": "stream",
     "text": [
      "you agreed to sell 100 shares of SLI at 7.5, and earned 56.99999999999999\n",
      "you need to have 100 shares available to sell; you will receive 750.0 for this transaction\n",
      "you purchased the right to sell 100 shares of SLI at 10 for 330.0\n"
     ]
    }
   ],
   "source": [
    "SLI.add_contract(7.5, call=True, writer=True)\n",
    "SLI.add_contract(10, call=False, writer=False)"
   ]
  },
  {
   "cell_type": "code",
   "execution_count": 74,
   "id": "fdae13bc",
   "metadata": {},
   "outputs": [
    {
     "data": {
      "text/plain": [
       "[Written7.5Call, Purchased10Put]"
      ]
     },
     "execution_count": 74,
     "metadata": {},
     "output_type": "execute_result"
    }
   ],
   "source": [
    "SLI.contracts"
   ]
  },
  {
   "cell_type": "markdown",
   "id": "e8197d39",
   "metadata": {},
   "source": [
    "# Adding a contract to Holdings object"
   ]
  },
  {
   "cell_type": "code",
   "execution_count": 75,
   "id": "b6286a89",
   "metadata": {},
   "outputs": [],
   "source": [
    "soldsli750put = OptionContract(.5, 7.5, SLI.market_price, writer=True, call=False)"
   ]
  },
  {
   "cell_type": "code",
   "execution_count": 76,
   "id": "2b4e9817",
   "metadata": {},
   "outputs": [],
   "source": [
    "# SLI.add_contract(soldsli750put) # gain $50 from the premium"
   ]
  },
  {
   "cell_type": "code",
   "execution_count": 77,
   "id": "b22a071d",
   "metadata": {
    "scrolled": true
   },
   "outputs": [
    {
     "data": {
      "text/plain": [
       "831.0"
      ]
     },
     "execution_count": 77,
     "metadata": {},
     "output_type": "execute_result"
    }
   ],
   "source": [
    "SLI.value"
   ]
  },
  {
   "cell_type": "code",
   "execution_count": 78,
   "id": "9fa6cbb0",
   "metadata": {},
   "outputs": [
    {
     "data": {
      "image/png": "[encoded data removed]",
      "text/plain": [
       "<Figure size 1152x288 with 1 Axes>"
      ]
     },
     "metadata": {},
     "output_type": "display_data"
    }
   ],
   "source": [
    "plot_contract(soldsli750put, 5, 15)"
   ]
  },
  {
   "cell_type": "code",
   "execution_count": 79,
   "id": "f9cf7aa4",
   "metadata": {},
   "outputs": [
    {
     "data": {
      "text/plain": [
       "831.0"
      ]
     },
     "execution_count": 79,
     "metadata": {},
     "output_type": "execute_result"
    }
   ],
   "source": [
    "SLI.market_price = 7.5\n",
    "SLI.value"
   ]
  },
  {
   "cell_type": "markdown",
   "id": "2d39f81e",
   "metadata": {},
   "source": [
    "Great. We could calculate the cost and value of bought margin shares easily, and match it with our contracts.\n",
    "\n",
    "However, since we're here... let's see if we can create another class, which might represent all of our holdings related to one stock. I'd like to implement some kind of inheritance or polymorphism here (some common properties; for example to calculate the value at a given market price).\n",
    "\n",
    "From the OptionContract object above, we have         \n",
    "- extrinsic value\n",
    "- intrinsic value\n",
    "- contract_size (# implied shares)\n",
    "- value --> a summation of the intrinsic and extrinsic value.\n",
    "\n",
    "However, if we wanted to hold other information about the stock (in memory, or in some kind of filesystem), at some point we will need to parse some data (At very least, to find the market price!). This `Holdings` class could be responsible for calculating the value of all contracts and shares related to a specific stock."
   ]
  },
  {
   "cell_type": "markdown",
   "id": "565cee7f",
   "metadata": {},
   "source": [
    "---"
   ]
  },
  {
   "cell_type": "code",
   "execution_count": 80,
   "id": "6630a694",
   "metadata": {
    "code_folding": []
   },
   "outputs": [],
   "source": [
    "def resolve_contracts(self):\n",
    "    prior_price = self.market_price\n",
    "    for idx, contract in enumerate(self.contracts):\n",
    "        print(contract)\n",
    "        self.contracts.pop(idx)\n",
    "        if contract.inthemoney == True:\n",
    "            if contract.writer == True:\n",
    "                if contract.call == True:\n",
    "                    self.market_price = contract._strike_price\n",
    "                    self.sell_shares(100)\n",
    "                elif contract.call == False:\n",
    "                    self.market_price = contract._strike_price\n",
    "                    self.buy_shares(100)\n",
    "                self.market_price = prior_price\n",
    "            elif contract.writer == False:\n",
    "                if contract.call == True:\n",
    "                    self.market_price = contract._strike_price\n",
    "                    self.buy_shares(100)\n",
    "                elif contract.call == False:\n",
    "                    self.market_price = contract._strike_price\n",
    "                    self.sell_shares(100)\n",
    "        "
   ]
  },
  {
   "cell_type": "code",
   "execution_count": 81,
   "id": "907c1d29",
   "metadata": {
    "code_folding": [],
    "scrolled": false
   },
   "outputs": [
    {
     "data": {
      "image/png": "[encoded data removed]",
      "text/plain": [
       "<Figure size 1152x504 with 1 Axes>"
      ]
     },
     "metadata": {},
     "output_type": "display_data"
    }
   ],
   "source": [
    "def plot_spread(holdings_obj):\n",
    "    ''' return a meaningful representation of the calls/puts sheets held in the Holdings object'''\n",
    "    h=holdings_obj\n",
    "    _ = h.market_price # save and (eventually) restore the market_price from before the call.\n",
    "    breakeven = holdings_obj.value # initial invested capital\n",
    "    pricerange = np.arange(4,13,0.1) ### THIS NEEDS TO BE ABSTRACTED\n",
    "\n",
    "    # container to check most profitable section. The plotted price.\n",
    "    values = []\n",
    "    top_pricepoint = 0\n",
    "    top_val = 0\n",
    "#     bot_pricepoint = 0\n",
    "\n",
    "#     bot_val = breakeven\n",
    "    for price in pricerange: # iterate through prices in pricerange\n",
    "        h.market_price = price # changing the value of the underlying asset\n",
    "        \n",
    "        if h.value > top_val: # if the value of Holdings is greater than previous top_val..\n",
    "            top_pricepoint, top_val = price, h.value\n",
    "#         elif h.value < bot_val:\n",
    "#             print(h.value)\n",
    "#             bot_pricepoint, bot_val = price, h.value\n",
    "            \n",
    "            \n",
    "        values.append(h.value)# regardless, append the current total value (versus price)\n",
    "    h.market_price = _ # reset the market_price.\n",
    "    \n",
    "    plt.figure(figsize=(16,7))    \n",
    "    plt.ylabel('Profit/Loss')\n",
    "    plt.xlabel('Share Price ($)')\n",
    "\n",
    "    for price, value in zip(pricerange, values):\n",
    "        if value > breakeven:\n",
    "            plt.scatter(price, value, c='green') ## profitable points noted in green\n",
    "        else:\n",
    "            plt.scatter(price, value, c='red') ## non-profitable points noted in red\n",
    "            \n",
    "    plt.axhline(breakeven, color='red', label=f'\\${breakeven} ')\n",
    "\n",
    "    \n",
    "    # conditional \n",
    "    plt.xticks([x for x in pricerange[::5]])\n",
    "#     plt.yticks([x for x in range(-3000, 3000, 200)])\n",
    "    plt.axhline(0, color='black')\n",
    "    plt.axhline(top_val, color='gold', label=f'{round(top_val, 1)}')\n",
    "#     plt.axhline(bot_val, color='cyan', label=f'{round(bot_val, 1)}')\n",
    "\n",
    "#     plt.axhspan(xmin=0, xmax=max(pricerange), ymin=0, ymax=top_val, alpha=0.2, color='gold')\n",
    "#     plt.axhspan(xmin=0, xmax=max(pricerange), ymin=min(values), ymax=0, alpha=0.2, color='red')\n",
    "    plt.legend()\n",
    "#     plt.savefig('for guy.png')\n",
    "    plt.show()\n",
    "\n",
    "plot_spread(SLI)"
   ]
  },
  {
   "cell_type": "markdown",
   "id": "de95a433",
   "metadata": {},
   "source": [
    "### UTILIZING CALL AND PUT OPTION CHAINS"
   ]
  },
  {
   "cell_type": "code",
   "execution_count": 82,
   "id": "122ff021",
   "metadata": {},
   "outputs": [
    {
     "name": "stdout",
     "output_type": "stream",
     "text": [
      "fetched data for SLI...yesterdays price: 6.96\n"
     ]
    }
   ],
   "source": [
    "h = Holdings('SLI') \n"
   ]
  },
  {
   "cell_type": "code",
   "execution_count": 83,
   "id": "10a6672f",
   "metadata": {},
   "outputs": [],
   "source": [
    "strikes, callprices, putprices = h.calls['strike'], h.calls['lastPrice'], h.puts['lastPrice']"
   ]
  },
  {
   "cell_type": "code",
   "execution_count": 84,
   "id": "43ba8b4d",
   "metadata": {
    "scrolled": true
   },
   "outputs": [
    {
     "data": {
      "text/html": [
       "<div>\n",
       "<style scoped>\n",
       "    .dataframe tbody tr th:only-of-type {\n",
       "        vertical-align: middle;\n",
       "    }\n",
       "\n",
       "    .dataframe tbody tr th {\n",
       "        vertical-align: top;\n",
       "    }\n",
       "\n",
       "    .dataframe thead th {\n",
       "        text-align: right;\n",
       "    }\n",
       "</style>\n",
       "<table border=\"1\" class=\"dataframe\">\n",
       "  <thead>\n",
       "    <tr style=\"text-align: right;\">\n",
       "      <th></th>\n",
       "      <th>calls</th>\n",
       "      <th>puts</th>\n",
       "    </tr>\n",
       "    <tr>\n",
       "      <th>strike</th>\n",
       "      <th></th>\n",
       "      <th></th>\n",
       "    </tr>\n",
       "  </thead>\n",
       "  <tbody>\n",
       "    <tr>\n",
       "      <th>2.5</th>\n",
       "      <td>4.50</td>\n",
       "      <td>0.23</td>\n",
       "    </tr>\n",
       "    <tr>\n",
       "      <th>5.0</th>\n",
       "      <td>2.15</td>\n",
       "      <td>1.20</td>\n",
       "    </tr>\n",
       "    <tr>\n",
       "      <th>7.5</th>\n",
       "      <td>0.57</td>\n",
       "      <td>3.30</td>\n",
       "    </tr>\n",
       "    <tr>\n",
       "      <th>10.0</th>\n",
       "      <td>0.06</td>\n",
       "      <td>6.17</td>\n",
       "    </tr>\n",
       "    <tr>\n",
       "      <th>12.5</th>\n",
       "      <td>0.05</td>\n",
       "      <td>NaN</td>\n",
       "    </tr>\n",
       "    <tr>\n",
       "      <th>15.0</th>\n",
       "      <td>0.05</td>\n",
       "      <td>NaN</td>\n",
       "    </tr>\n",
       "  </tbody>\n",
       "</table>\n",
       "</div>"
      ],
      "text/plain": [
       "        calls  puts\n",
       "strike             \n",
       "2.5      4.50  0.23\n",
       "5.0      2.15  1.20\n",
       "7.5      0.57  3.30\n",
       "10.0     0.06  6.17\n",
       "12.5     0.05   NaN\n",
       "15.0     0.05   NaN"
      ]
     },
     "execution_count": 84,
     "metadata": {},
     "output_type": "execute_result"
    }
   ],
   "source": [
    "df = pd.DataFrame([callprices, putprices], index=['calls', 'puts']).T\n",
    "df.set_index(strikes, inplace=True)\n",
    "df"
   ]
  },
  {
   "cell_type": "markdown",
   "id": "51d7a9fb",
   "metadata": {},
   "source": [
    "## Plotting full spread of Options for a stock"
   ]
  },
  {
   "cell_type": "markdown",
   "id": "9d759c30",
   "metadata": {},
   "source": [
    "This function calls for the yfinance object directly, but could easily be implemented in the class. It parses the available contract dates, calls the first value (contract_date == 0) and then finds the value of each type of contract at that market price. "
   ]
  },
  {
   "cell_type": "code",
   "execution_count": 85,
   "id": "31b1163f",
   "metadata": {
    "code_folding": []
   },
   "outputs": [
    {
     "name": "stdout",
     "output_type": "stream",
     "text": [
      "lowest and highest strike: 1.5 16.0\n"
     ]
    },
    {
     "data": {
      "image/png": "[encoded data removed]",
      "text/plain": [
       "<Figure size 1440x1440 with 4 Axes>"
      ]
     },
     "metadata": {},
     "output_type": "display_data"
    }
   ],
   "source": [
    "def plot_spreads(ticker, contract_date=0):\n",
    "    \n",
    "    stock = yf.Ticker(ticker)\n",
    "    prev_close = stock.info['previousClose']\n",
    "    options_dates = list(stock.options)\n",
    "    mydate = options_dates[contract_date]  ### NEXT DATE IS 0-INDEXED VALUE FROM OPTIONS_DATES\n",
    "    opt = stock.option_chain(mydate)\n",
    "    # data available via: opt.calls, opt.puts\n",
    "    calls = opt.calls\n",
    "    puts = opt.puts\n",
    "    \n",
    "\n",
    "#     std = calls['strike'].std()\n",
    "    high = calls['strike'].max() + 1\n",
    "    low = (calls['strike'].min() - 1)\n",
    "    if low < 0:\n",
    "        low=0\n",
    "    print('lowest and highest strike:', low, high)\n",
    "    \n",
    "    ### CALLS###\n",
    "    # bought calls\n",
    "    prices = calls['lastPrice']\n",
    "    strikes = calls['strike']\n",
    "    bought_calls = []\n",
    "    for price, strike in list(zip(prices, strikes)):\n",
    "        boughtcall=OptionContract(price, strike, prev_close, call=True, writer=False)\n",
    "        bought_calls.append(boughtcall)\n",
    "\n",
    "    # sold calls\n",
    "    sold_calls = []\n",
    "    for price, strike in list(zip(prices, strikes)):\n",
    "        soldcall=OptionContract(price, strike, prev_close, call=True, writer=True)\n",
    "        sold_calls.append(soldcall)\n",
    "        \n",
    "        \n",
    "    ### PUTS ###\n",
    "    # bought puts\n",
    "    prices = puts['lastPrice']\n",
    "    strikes = puts['strike']\n",
    "    bought_puts = []\n",
    "    for price, strike in list(zip(prices, strikes)):\n",
    "        boughtput=OptionContract(price, strike, prev_close, call=False, writer=False)\n",
    "        bought_puts.append(boughtcall)\n",
    "\n",
    "\n",
    "    # written puts\n",
    "    sold_puts = []\n",
    "    for price, strike in list(zip(prices, strikes)):\n",
    "        soldput=OptionContract(price, strike, prev_close, call=False, writer=True)\n",
    "        sold_puts.append(soldput)\n",
    "\n",
    "    all_options = [bought_calls] + [sold_calls] + [bought_puts] + [sold_puts]\n",
    "\n",
    "    plt.subplots(2, 2, figsize=(20, 20))\n",
    "    for idx, lst in enumerate(all_options):\n",
    "        plt.subplot(2,2 ,idx+1)\n",
    "        labels = []\n",
    "        for c in lst:\n",
    "            c.plot_contract(low, high, 0.5)\n",
    "            labels.append(c)\n",
    "        plt.legend(labels=labels, loc='best')\n",
    "#     plt.savefig('for guy.png', dpi=200)\n",
    "    plt.show()\n",
    "    \n",
    "plot_spreads('SLI')"
   ]
  },
  {
   "cell_type": "markdown",
   "id": "3d37cb88",
   "metadata": {},
   "source": [
    "Note that the purchased call plot is broken because the `market_value` is shifting along with the intrinsic value of the contract... it's consistently representing it's value as the cost of the contract, because the value of shares is not included in the calls. Sold puts currently do not allocate shares --"
   ]
  },
  {
   "cell_type": "markdown",
   "id": "079e14d4",
   "metadata": {},
   "source": [
    "## Another Example for testing..."
   ]
  },
  {
   "cell_type": "code",
   "execution_count": 86,
   "id": "bcd49f85",
   "metadata": {},
   "outputs": [],
   "source": [
    "# creating all_options list for testing..\n",
    "boughtput=OptionContract(0.65, 7.5, 8.4, call=False, writer=False)\n",
    "boughtcall=OptionContract(4, 5, 8.4, call=True, writer=False)\n",
    "soldput=OptionContract(4, 5, 8.4, call=False, writer=True)\n",
    "soldcall=OptionContract(4, 5, 8.4, call=True, writer=True)\n",
    "\n",
    "all_options = [boughtput, boughtcall, soldput, soldcall]"
   ]
  },
  {
   "cell_type": "markdown",
   "id": "fba8ad34",
   "metadata": {},
   "source": [
    "## bought calls"
   ]
  },
  {
   "cell_type": "code",
   "execution_count": null,
   "id": "80ad7cb5",
   "metadata": {
    "code_folding": []
   },
   "outputs": [],
   "source": [
    "\n",
    "boughtcall=OptionContract(3.4, 10, 8.87, call=True, writer=False)\n",
    "\n",
    "# pay $340\n",
    "h.add_contract(boughtcall)\n",
    "print(sum([x.value for x in h.contracts]), h.value, h.shares)\n",
    "h.market_price = 10\n",
    "print(sum([x.value for x in h.contracts]), h.value, h.shares)\n",
    "h.market_price = 5\n",
    "print(sum([x.value for x in h.contracts]), h.value, h.shares)\n",
    "### This still needs work."
   ]
  },
  {
   "cell_type": "markdown",
   "id": "21c3ce56",
   "metadata": {},
   "source": [
    "## sold puts"
   ]
  },
  {
   "cell_type": "code",
   "execution_count": null,
   "id": "c2ca41cf",
   "metadata": {
    "code_folding": [
     0
    ],
    "scrolled": false
   },
   "outputs": [],
   "source": [
    "#\n",
    "h.reset_object()\n",
    "\n",
    "# soldcall=OptionContract(4.14, 5, 8.87, call=True, writer=True)\n",
    "soldput=OptionContract(3.4, 10, 8.87, call=False, writer=True)\n",
    "\n",
    "# make $340 --> currently paying 1.13\n",
    "# h.add_contract(soldcall)\n",
    "h.add_contract(soldput)\n",
    "print(sum([x.value for x in h.contracts]), h.value, h.shares)\n",
    "h.market_price = 10\n",
    "print(sum([x.value for x in h.contracts]), h.value, h.shares)\n",
    "h.market_price = 5\n",
    "print(sum([x.value for x in h.contracts]), h.value, h.shares)\n"
   ]
  },
  {
   "cell_type": "markdown",
   "id": "574e492e",
   "metadata": {},
   "source": [
    "## sold calls\n",
    "\n",
    "Purchased 100 shares for margin, at market price.."
   ]
  },
  {
   "cell_type": "code",
   "execution_count": null,
   "id": "1533ccf8",
   "metadata": {
    "code_folding": [],
    "scrolled": false
   },
   "outputs": [],
   "source": [
    "#\n",
    "h.reset_object()\n",
    "soldcall=OptionContract(1.4, 10, 8.87, call=True, writer=True)\n",
    "\n",
    "# make $140 --> currently paying 0\n",
    "# h.add_contract(soldcall)\n",
    "h.add_contract(soldcall)\n",
    "print(sum([x.value for x in h.contracts]), h.value, h.shares) # at 8.87\n",
    "h.market_price = 15\n",
    "print(sum([x.value for x in h.contracts]), h.value, h.shares) # at 15 --> they want the shares.\n",
    "h.market_price = 5\n",
    "print(sum([x.value for x in h.contracts]), h.value, h.shares) # at 5\n"
   ]
  },
  {
   "cell_type": "markdown",
   "id": "c9c571a5",
   "metadata": {},
   "source": [
    "## bought puts"
   ]
  },
  {
   "cell_type": "code",
   "execution_count": null,
   "id": "f426f35d",
   "metadata": {
    "code_folding": [
     0
    ],
    "scrolled": false
   },
   "outputs": [],
   "source": [
    "#\n",
    "h.reset_object()\n",
    "soldcall=OptionContract(1.4, 10, 8.87, call=False, writer=False)\n",
    "\n",
    "# make $140 --> currently paying 0\n",
    "# h.add_contract(soldcall)\n",
    "h.add_contract(soldcall)\n",
    "print(sum([x.value for x in h.contracts]), h.value, h.shares) # at 8.87\n",
    "h.market_price = 15\n",
    "print(sum([x.value for x in h.contracts]), h.value, h.shares) # at 15 --> they want the shares.\n",
    "h.market_price = 5\n",
    "print(sum([x.value for x in h.contracts]), h.value, h.shares) # at 5\n"
   ]
  },
  {
   "cell_type": "markdown",
   "id": "78158fda",
   "metadata": {},
   "source": [
    "### Final example "
   ]
  },
  {
   "cell_type": "markdown",
   "id": "59da4382",
   "metadata": {},
   "source": [
    "# Portfolio object\n"
   ]
  },
  {
   "cell_type": "code",
   "execution_count": 92,
   "id": "9075b7be",
   "metadata": {
    "code_folding": []
   },
   "outputs": [],
   "source": [
    "class Portfolio():\n",
    "    '''A container for Holdings objects, optimization\n",
    "    \n",
    "        accepts:\n",
    "        name : the name of the portfolio/strategy\n",
    "        init_capital : the capital available for the strategy.\n",
    "        \n",
    "    '''\n",
    "\n",
    "    def __init__(self, name='Portfolio', init_capital=0):\n",
    "        self.free_capital = init_capital\n",
    "        self.name = name\n",
    "        self.holdings = [] # list of Holdings objects\n",
    "        self._value = init_capital # initialize the value as equal to the capital allocation.\n",
    "        \n",
    "        \n",
    "        \n",
    "    @property\n",
    "    def ticker_list(self):\n",
    "        return [x.ticker for x in self.holdings] \n",
    "    @property\n",
    "    def price_list(self):\n",
    "        return [x.value for x in self.holdings]\n",
    "    @property\n",
    "    def share_list(self):\n",
    "        return [x.shares for x in self.holdings]\n",
    "    \n",
    "    @property\n",
    "    def total_value(self):\n",
    "        self._value = sum([x.value for x in self.holdings]) + self.free_capital\n",
    "        return self._value\n",
    "        \n",
    "    def transfer_funds(self, holdings_obj, amount):\n",
    "        self.free_capital = self.free_capital - amount\n",
    "        holdings_obj.capital = holdings_obj.capital + amount"
   ]
  },
  {
   "cell_type": "markdown",
   "id": "6115ffc7",
   "metadata": {},
   "source": [
    "We expect our Holdings objects to have:\n",
    "\n",
    ".ticker, .capital, .value, and .shares methods.  This is a rudimentary architechture.\n",
    "\n",
    "Our Portfolio class has  attributes:"
   ]
  },
  {
   "cell_type": "code",
   "execution_count": 93,
   "id": "c23f32ee",
   "metadata": {},
   "outputs": [
    {
     "data": {
      "text/plain": [
       "mappingproxy({'__module__': '__main__',\n",
       "              '__doc__': 'A container for Holdings objects, optimization\\n    \\n        accepts:\\n        name : the name of the portfolio/strategy\\n        init_capital : the capital available for the strategy.\\n        \\n    ',\n",
       "              '__init__': <function __main__.Portfolio.__init__(self, name='Portfolio', init_capital=0)>,\n",
       "              'ticker_list': <property at 0x2a6c9e19810>,\n",
       "              'price_list': <property at 0x2a6ca245900>,\n",
       "              'share_list': <property at 0x2a6ca245d10>,\n",
       "              'total_value': <property at 0x2a6ca245810>,\n",
       "              'transfer_funds': <function __main__.Portfolio.transfer_funds(self, holdings_obj, amount)>,\n",
       "              '__dict__': <attribute '__dict__' of 'Portfolio' objects>,\n",
       "              '__weakref__': <attribute '__weakref__' of 'Portfolio' objects>})"
      ]
     },
     "execution_count": 93,
     "metadata": {},
     "output_type": "execute_result"
    }
   ],
   "source": [
    "Portfolio.__dict__"
   ]
  },
  {
   "cell_type": "code",
   "execution_count": 94,
   "id": "4560eda3",
   "metadata": {},
   "outputs": [
    {
     "data": {
      "text/plain": [
       "5000"
      ]
     },
     "execution_count": 94,
     "metadata": {},
     "output_type": "execute_result"
    }
   ],
   "source": [
    "port = Portfolio('TECH', 5000)\n",
    "port.total_value"
   ]
  },
  {
   "cell_type": "markdown",
   "id": "2b847680",
   "metadata": {},
   "source": [
    "### buying and selling shares"
   ]
  },
  {
   "cell_type": "code",
   "execution_count": 95,
   "id": "b0511546",
   "metadata": {},
   "outputs": [
    {
     "name": "stdout",
     "output_type": "stream",
     "text": [
      "fetched data for SLI...yesterdays price: 6.96\n"
     ]
    }
   ],
   "source": [
    "port_SLI = Holdings('SLI')"
   ]
  },
  {
   "cell_type": "code",
   "execution_count": 96,
   "id": "d6d0561a",
   "metadata": {},
   "outputs": [],
   "source": [
    "port.holdings.append(port_SLI)"
   ]
  },
  {
   "cell_type": "code",
   "execution_count": 97,
   "id": "0e126c1a",
   "metadata": {},
   "outputs": [
    {
     "name": "stdout",
     "output_type": "stream",
     "text": [
      "buying 100 at 6.96 for 696.0\n"
     ]
    }
   ],
   "source": [
    "port.transfer_funds(port_SLI, 2500)\n",
    "port_SLI.buy_shares(100)"
   ]
  },
  {
   "cell_type": "markdown",
   "id": "5b3da1f3",
   "metadata": {},
   "source": [
    "### PlotSpread class WIP"
   ]
  },
  {
   "cell_type": "code",
   "execution_count": null,
   "id": "3f59e1c6",
   "metadata": {
    "code_folding": []
   },
   "outputs": [],
   "source": [
    "SLI = Holdings('SLI')\n",
    "\n",
    "SLI.add_contract(soldcall)\n",
    "SLI.add_contract(soldput)"
   ]
  },
  {
   "cell_type": "markdown",
   "id": "973d14c3",
   "metadata": {},
   "source": [
    "The below class is total WIP"
   ]
  },
  {
   "cell_type": "code",
   "execution_count": null,
   "id": "75037771",
   "metadata": {},
   "outputs": [],
   "source": [
    "class PlotSpread:\n",
    "    ''' a functional 'class' dedicated to analysis of a set of contracts\n",
    "    '''\n",
    "    \n",
    "    def __init__(self, holdings_obj):\n",
    "        \n",
    "        h = holdings_obj\n",
    "        price_range = np.arange(0, 15, 0.1) # TODO: non-naive from Holdings\n",
    "        \n",
    "        #         # set a line at your current capital\n",
    "#         h.capital + h.shares + h.contracts\n",
    "        \n",
    "        ## breakeven; with margin;\n",
    "        ## hardcode the original margin cost\n",
    "#         self.margin = None\n",
    "        \n",
    "    \n",
    "        \n",
    "\n",
    "        for contract in h.contracts:\n",
    "            #\n",
    "            share_value = []\n",
    "            contract_value = []\n",
    "            total_value = []\n",
    "            total_margin = 0\n",
    "\n",
    "            # evaluate margin; not necessary for purchased contracts?\n",
    "            if (contract.writer==True):\n",
    "                if contract.call==True:\n",
    "                    total_margin += h.market_price * 100 # 'purchase' margin shares @CURRENT market_price--------------->\n",
    "                if contract.call==False:  \n",
    "                    total_margin += contract._strike_price * 100 # represent the reserve capital; no additional value.     \n",
    "            \n",
    "                premium = contract.extrinsic_value\n",
    "\n",
    "        ## recording values over price range\n",
    "\n",
    "        \n",
    "\n",
    "            ## iterating through market_prices\n",
    "            plt.title(h)\n",
    "            for i in price_range: # iterate through price values\n",
    "                contract.market_price = i\n",
    "                contract_value.append(contract.value)\n",
    "                share_value.append(100 * contract.market_price)\n",
    "                total_value.append(contract.value + (100*contract.market_price))# <------------- own shares @ the new price\n",
    "            \n",
    "            ## plotting results\n",
    "            plt.plot(price_range, share_value, label= 'share value')\n",
    "            plt.plot(price_range, contract_value, label='contract value', color='purple')\n",
    "\n",
    "            plt.plot(price_range, total_value, label='total', ls='dashdot', color='blue')\n",
    "            plt.axhline((total_margin-premium), color='green', ls='--', label=f'break even ({total_margin} - {premium}) share_cost; premium')\n",
    "            plt.axhline(0, color='black')\n",
    "            plt.yticks()\n",
    "            plt.legend()\n",
    "            plt.show()\n",
    "\n",
    "        plt.subplots(figsize=(16,6))"
   ]
  },
  {
   "cell_type": "code",
   "execution_count": null,
   "id": "5dd806b5",
   "metadata": {
    "code_folding": []
   },
   "outputs": [],
   "source": [
    "class PlotSpread:\n",
    "    ''' a functional 'class' dedicated to analysis of a set of contracts, rather than storing their values in a portfolio\n",
    "    \n",
    "    '''\n",
    "    \n",
    "    def __init__(self, holdings_obj):\n",
    "        \n",
    "        h = holdings_obj\n",
    "        price_range = np.arange(0, 15, 0.1) # TODO: non-naive from Holdings\n",
    "        \n",
    "        #         # set a line at your current capital\n",
    "#         h.capital + h.shares + h.contracts\n",
    "        \n",
    "        ## breakeven; with margin;\n",
    "        ## hardcode the original margin cost\n",
    "#         self.margin = None\n",
    "        \n",
    "        share_values = []\n",
    "        contract_values = []\n",
    "        total_values = []\n",
    "        total_margin = 0\n",
    "        total_premium = 0\n",
    "\n",
    "        for contract in h.contracts:\n",
    "            #\n",
    "            share_value = []\n",
    "            contract_value = []\n",
    "            total_value = []\n",
    "\n",
    "            # evaluate margin; not necessary for purchased contracts?\n",
    "            if (contract.writer==True):\n",
    "                if contract.call==True:\n",
    "                    total_margin += h.market_price * 100 # 'purchase' margin shares @CURRENT market_price--------------->\n",
    "                if contract.call==False:  \n",
    "                    total_margin += contract._strike_price * 100 # represent the reserve capital; no additional value.     \n",
    "            \n",
    "                total_premium += contract.extrinsic_value\n",
    "\n",
    "        ## recording values over price range\n",
    "        \n",
    "        \n",
    "\n",
    "            ## iterating through market_prices\n",
    "            plt.title(h.contracts)\n",
    "            for i in price_range: # iterate through price values\n",
    "                contract.market_price = i\n",
    "                contract_value.append(contract.value)\n",
    "                share_value.append(100 * contract.market_price)\n",
    "                total_value.append(contract.value + (100*contract.market_price))# <------------- own shares @ the new price\n",
    "        \n",
    "            share_values.append(np.array(share_value))\n",
    "            total_values.append(np.array(total_value))\n",
    "            contract_values.append(np.array(contract_value))\n",
    "        \n",
    "        \n",
    "        contract_totals = [np.zeros(len(contract_values[0]))]\n",
    "        for x in contract_values:\n",
    "            contract_totals += x\n",
    "            \n",
    "        share_totals = [np.zeros(len(share_values[0]))]\n",
    "        \n",
    "        for x in share_values:\n",
    "            share_totals += x\n",
    "\n",
    "        totals = [np.zeros(len(total_values[0]))]\n",
    "        for x in total_values:\n",
    "            totals += x\n",
    "\n",
    "        plt.plot(price_range, share_totals.ravel(), label= 'share value')\n",
    "        plt.plot(price_range, contract_totals.ravel(), label='contract value', color='purple')\n",
    "        plt.plot(price_range, totals.ravel(), label='total', ls='dashdot', color='blue')\n",
    "        \n",
    "        plt.axhline((total_margin - total_premium), color='green', ls='--', label=f'invested {total_margin} - {total_premium}')\n",
    "        plt.axhline(0, color='black')\n",
    "        plt.yticks()\n",
    "        plt.legend()\n",
    "        plt.show()\n",
    "        \n",
    "plt.subplots(figsize=(16,6))\n",
    "        \n",
    "PlotSpread(SLI)"
   ]
  },
  {
   "cell_type": "markdown",
   "id": "3bfaebdc",
   "metadata": {},
   "source": [
    "# Trying a functional approach to contracts "
   ]
  },
  {
   "cell_type": "code",
   "execution_count": null,
   "id": "0156fffd",
   "metadata": {},
   "outputs": [],
   "source": [
    "class Contract:\n",
    "    '''contract'''\n",
    "    def __init__(self,\n",
    "                 premium, #load from Holdings\n",
    "                 strike, #loaded from Holdings?\n",
    "                 market_price, #loaded frmo Holdings\n",
    "                contract_size=100, # REGULAR\n",
    "#                 call=True, # TRUE if a call, FALSE if a Put\n",
    "#                 writer=True, # TRUE if contract is NOT OWNED\n",
    "                ):\n",
    "    \n",
    "        self.premium = premium\n",
    "        self.strike_price = strike\n",
    "        self.market_price = market_price\n",
    "        self.contract_size = contract_size\n",
    "        \n",
    "    def measure(self):\n",
    "        self.calculate_money_worth()\n",
    "        \n",
    "    def cut(self):\n",
    "        self.calculate_shares_and_money()"
   ]
  },
  {
   "cell_type": "code",
   "execution_count": 88,
   "id": "1a576e62",
   "metadata": {
    "scrolled": true
   },
   "outputs": [
    {
     "data": {
      "text/html": [
       "<div>\n",
       "<style scoped>\n",
       "    .dataframe tbody tr th:only-of-type {\n",
       "        vertical-align: middle;\n",
       "    }\n",
       "\n",
       "    .dataframe tbody tr th {\n",
       "        vertical-align: top;\n",
       "    }\n",
       "\n",
       "    .dataframe thead th {\n",
       "        text-align: right;\n",
       "    }\n",
       "</style>\n",
       "<table border=\"1\" class=\"dataframe\">\n",
       "  <thead>\n",
       "    <tr style=\"text-align: right;\">\n",
       "      <th></th>\n",
       "      <th>contractSymbol</th>\n",
       "      <th>lastTradeDate</th>\n",
       "      <th>strike</th>\n",
       "      <th>lastPrice</th>\n",
       "      <th>bid</th>\n",
       "      <th>ask</th>\n",
       "      <th>change</th>\n",
       "      <th>percentChange</th>\n",
       "      <th>volume</th>\n",
       "      <th>openInterest</th>\n",
       "      <th>impliedVolatility</th>\n",
       "      <th>inTheMoney</th>\n",
       "      <th>contractSize</th>\n",
       "      <th>currency</th>\n",
       "    </tr>\n",
       "  </thead>\n",
       "  <tbody>\n",
       "    <tr>\n",
       "      <th>0</th>\n",
       "      <td>SLI220218P00005000</td>\n",
       "      <td>2022-01-28 17:58:58</td>\n",
       "      <td>5.0</td>\n",
       "      <td>0.23</td>\n",
       "      <td>0.0</td>\n",
       "      <td>0.0</td>\n",
       "      <td>0.0</td>\n",
       "      <td>0.0</td>\n",
       "      <td>84</td>\n",
       "      <td>0</td>\n",
       "      <td>0.500005</td>\n",
       "      <td>False</td>\n",
       "      <td>REGULAR</td>\n",
       "      <td>USD</td>\n",
       "    </tr>\n",
       "    <tr>\n",
       "      <th>1</th>\n",
       "      <td>SLI220218P00007500</td>\n",
       "      <td>2022-01-28 20:29:30</td>\n",
       "      <td>7.5</td>\n",
       "      <td>1.20</td>\n",
       "      <td>0.0</td>\n",
       "      <td>0.0</td>\n",
       "      <td>0.0</td>\n",
       "      <td>0.0</td>\n",
       "      <td>636</td>\n",
       "      <td>0</td>\n",
       "      <td>0.000010</td>\n",
       "      <td>True</td>\n",
       "      <td>REGULAR</td>\n",
       "      <td>USD</td>\n",
       "    </tr>\n",
       "    <tr>\n",
       "      <th>2</th>\n",
       "      <td>SLI220218P00010000</td>\n",
       "      <td>2022-01-28 17:44:22</td>\n",
       "      <td>10.0</td>\n",
       "      <td>3.30</td>\n",
       "      <td>0.0</td>\n",
       "      <td>0.0</td>\n",
       "      <td>0.0</td>\n",
       "      <td>0.0</td>\n",
       "      <td>14</td>\n",
       "      <td>0</td>\n",
       "      <td>0.000010</td>\n",
       "      <td>True</td>\n",
       "      <td>REGULAR</td>\n",
       "      <td>USD</td>\n",
       "    </tr>\n",
       "    <tr>\n",
       "      <th>3</th>\n",
       "      <td>SLI220218P00012500</td>\n",
       "      <td>2022-01-18 19:57:44</td>\n",
       "      <td>12.5</td>\n",
       "      <td>6.17</td>\n",
       "      <td>0.0</td>\n",
       "      <td>0.0</td>\n",
       "      <td>0.0</td>\n",
       "      <td>0.0</td>\n",
       "      <td>2</td>\n",
       "      <td>0</td>\n",
       "      <td>0.000010</td>\n",
       "      <td>True</td>\n",
       "      <td>REGULAR</td>\n",
       "      <td>USD</td>\n",
       "    </tr>\n",
       "  </tbody>\n",
       "</table>\n",
       "</div>"
      ],
      "text/plain": [
       "       contractSymbol       lastTradeDate  strike  lastPrice  bid  ask  \\\n",
       "0  SLI220218P00005000 2022-01-28 17:58:58     5.0       0.23  0.0  0.0   \n",
       "1  SLI220218P00007500 2022-01-28 20:29:30     7.5       1.20  0.0  0.0   \n",
       "2  SLI220218P00010000 2022-01-28 17:44:22    10.0       3.30  0.0  0.0   \n",
       "3  SLI220218P00012500 2022-01-18 19:57:44    12.5       6.17  0.0  0.0   \n",
       "\n",
       "   change  percentChange  volume  openInterest  impliedVolatility  inTheMoney  \\\n",
       "0     0.0            0.0      84             0           0.500005       False   \n",
       "1     0.0            0.0     636             0           0.000010        True   \n",
       "2     0.0            0.0      14             0           0.000010        True   \n",
       "3     0.0            0.0       2             0           0.000010        True   \n",
       "\n",
       "  contractSize currency  \n",
       "0      REGULAR      USD  \n",
       "1      REGULAR      USD  \n",
       "2      REGULAR      USD  \n",
       "3      REGULAR      USD  "
      ]
     },
     "execution_count": 88,
     "metadata": {},
     "output_type": "execute_result"
    }
   ],
   "source": [
    "SLI.puts"
   ]
  },
  {
   "cell_type": "code",
   "execution_count": null,
   "id": "e77ab458",
   "metadata": {
    "code_folding": []
   },
   "outputs": [],
   "source": [
    "####JANKY\n",
    "\n",
    "msft = Holdings('MSFT') ### JUNK\n",
    "\n",
    "written_call = OptionContract(4, 300, msft)\n",
    "written_put = OptionContract(4, 330, msft, call=False)\n",
    "bought_put = OptionContract(4, 330, msft, writer=False, call=False)\n",
    "bought_call = OptionContract(4, 330, msft, writer=False)\n",
    "\n",
    "asset_list = [written_call, \n",
    "              written_put,\n",
    "              bought_put, \n",
    "              bought_call]\n",
    "\n",
    "\n",
    "\n",
    "[msft.contracts.append(x) for x in asset_list]"
   ]
  },
  {
   "cell_type": "code",
   "execution_count": 90,
   "id": "3645eacf",
   "metadata": {},
   "outputs": [
    {
     "data": {
      "text/plain": [
       "{'_ticker': 'MSFT',\n",
       " 'stock': yfinance.Ticker object <MSFT>,\n",
       " '_market_price': 299.84,\n",
       " 'option_dates': ['2022-02-04',\n",
       "  '2022-02-11',\n",
       "  '2022-02-18',\n",
       "  '2022-02-25',\n",
       "  '2022-03-04',\n",
       "  '2022-03-11',\n",
       "  '2022-03-18',\n",
       "  '2022-04-14',\n",
       "  '2022-05-20',\n",
       "  '2022-06-17',\n",
       "  '2022-07-15',\n",
       "  '2022-08-19',\n",
       "  '2022-09-16',\n",
       "  '2023-01-20',\n",
       "  '2023-03-17',\n",
       "  '2023-06-16',\n",
       "  '2024-01-19'],\n",
       " 'option_date': 0,\n",
       " 'opt': Options(calls=         contractSymbol       lastTradeDate  strike  lastPrice  bid  ask  \\\n",
       " 0   MSFT220204C00200000 2022-01-28 18:06:24   200.0     103.30  0.0  0.0   \n",
       " 1   MSFT220204C00210000 2022-01-27 14:31:27   210.0      92.57  0.0  0.0   \n",
       " 2   MSFT220204C00215000 2022-01-25 20:02:21   215.0      79.59  0.0  0.0   \n",
       " 3   MSFT220204C00220000 2022-01-28 14:30:01   220.0      80.65  0.0  0.0   \n",
       " 4   MSFT220204C00225000 2022-01-21 17:28:04   225.0      77.50  0.0  0.0   \n",
       " ..                  ...                 ...     ...        ...  ...  ...   \n",
       " 60  MSFT220204C00405000 2022-01-28 16:23:01   405.0       0.01  0.0  0.0   \n",
       " 61  MSFT220204C00410000 2022-01-26 19:53:21   410.0       0.01  0.0  0.0   \n",
       " 62  MSFT220204C00415000 2022-01-27 17:08:21   415.0       0.01  0.0  0.0   \n",
       " 63  MSFT220204C00420000 2022-01-25 20:57:08   420.0       0.02  0.0  0.0   \n",
       " 64  MSFT220204C00425000 2022-01-27 14:46:09   425.0       0.01  0.0  0.0   \n",
       " \n",
       "     change  percentChange  volume  openInterest  impliedVolatility  \\\n",
       " 0      0.0            0.0     1.0           0.0           0.000010   \n",
       " 1      0.0            0.0     NaN           0.0           0.000010   \n",
       " 2      0.0            0.0     2.0           0.0           0.000010   \n",
       " 3      0.0            0.0     1.0           0.0           0.000010   \n",
       " 4      0.0            0.0     2.0           0.0           0.000010   \n",
       " ..     ...            ...     ...           ...                ...   \n",
       " 60     0.0            0.0     1.0           0.0           0.500005   \n",
       " 61     0.0            0.0    24.0           0.0           0.500005   \n",
       " 62     0.0            0.0     4.0           0.0           0.500005   \n",
       " 63     0.0            0.0   271.0           0.0           0.500005   \n",
       " 64     0.0            0.0    12.0           0.0           0.500005   \n",
       " \n",
       "     inTheMoney contractSize currency  \n",
       " 0         True      REGULAR      USD  \n",
       " 1         True      REGULAR      USD  \n",
       " 2         True      REGULAR      USD  \n",
       " 3         True      REGULAR      USD  \n",
       " 4         True      REGULAR      USD  \n",
       " ..         ...          ...      ...  \n",
       " 60       False      REGULAR      USD  \n",
       " 61       False      REGULAR      USD  \n",
       " 62       False      REGULAR      USD  \n",
       " 63       False      REGULAR      USD  \n",
       " 64       False      REGULAR      USD  \n",
       " \n",
       " [65 rows x 14 columns], puts=         contractSymbol       lastTradeDate  strike  lastPrice  bid  ask  \\\n",
       " 0   MSFT220204P00200000 2022-01-28 20:57:57   200.0       0.01  0.0  0.0   \n",
       " 1   MSFT220204P00205000 2022-01-28 20:23:41   205.0       0.01  0.0  0.0   \n",
       " 2   MSFT220204P00210000 2022-01-28 20:57:47   210.0       0.02  0.0  0.0   \n",
       " 3   MSFT220204P00215000 2022-01-28 20:59:18   215.0       0.02  0.0  0.0   \n",
       " 4   MSFT220204P00220000 2022-01-28 20:58:55   220.0       0.02  0.0  0.0   \n",
       " ..                  ...                 ...     ...        ...  ...  ...   \n",
       " 59  MSFT220204P00385000 2022-01-26 19:14:32   385.0      82.70  0.0  0.0   \n",
       " 60  MSFT220204P00400000 2022-01-21 15:13:33   400.0     101.00  0.0  0.0   \n",
       " 61  MSFT220204P00405000 2022-01-28 14:33:46   405.0     107.30  0.0  0.0   \n",
       " 62  MSFT220204P00410000 2022-01-26 19:14:43   410.0     108.20  0.0  0.0   \n",
       " 63  MSFT220204P00425000 2022-01-26 19:40:12   425.0     121.76  0.0  0.0   \n",
       " \n",
       "     change  percentChange  volume  openInterest  impliedVolatility  \\\n",
       " 0      0.0            0.0    1407           0.0           0.500005   \n",
       " 1      0.0            0.0    2239           0.0           0.500005   \n",
       " 2      0.0            0.0    1000           0.0           0.500005   \n",
       " 3      0.0            0.0    1706           0.0           0.500005   \n",
       " 4      0.0            0.0    1852           0.0           0.500005   \n",
       " ..     ...            ...     ...           ...                ...   \n",
       " 59     0.0            0.0       1           0.0           0.000010   \n",
       " 60     0.0            0.0       1           0.0           0.000010   \n",
       " 61     0.0            0.0       1           0.0           0.000010   \n",
       " 62     0.0            0.0       1           0.0           0.000010   \n",
       " 63     0.0            0.0       1           0.0           0.000010   \n",
       " \n",
       "     inTheMoney contractSize currency  \n",
       " 0        False      REGULAR      USD  \n",
       " 1        False      REGULAR      USD  \n",
       " 2        False      REGULAR      USD  \n",
       " 3        False      REGULAR      USD  \n",
       " 4        False      REGULAR      USD  \n",
       " ..         ...          ...      ...  \n",
       " 59        True      REGULAR      USD  \n",
       " 60        True      REGULAR      USD  \n",
       " 61        True      REGULAR      USD  \n",
       " 62        True      REGULAR      USD  \n",
       " 63        True      REGULAR      USD  \n",
       " \n",
       " [64 rows x 14 columns]),\n",
       " 'calls':          contractSymbol       lastTradeDate  strike  lastPrice  bid  ask  \\\n",
       " 0   MSFT220204C00200000 2022-01-28 18:06:24   200.0     103.30  0.0  0.0   \n",
       " 1   MSFT220204C00210000 2022-01-27 14:31:27   210.0      92.57  0.0  0.0   \n",
       " 2   MSFT220204C00215000 2022-01-25 20:02:21   215.0      79.59  0.0  0.0   \n",
       " 3   MSFT220204C00220000 2022-01-28 14:30:01   220.0      80.65  0.0  0.0   \n",
       " 4   MSFT220204C00225000 2022-01-21 17:28:04   225.0      77.50  0.0  0.0   \n",
       " ..                  ...                 ...     ...        ...  ...  ...   \n",
       " 60  MSFT220204C00405000 2022-01-28 16:23:01   405.0       0.01  0.0  0.0   \n",
       " 61  MSFT220204C00410000 2022-01-26 19:53:21   410.0       0.01  0.0  0.0   \n",
       " 62  MSFT220204C00415000 2022-01-27 17:08:21   415.0       0.01  0.0  0.0   \n",
       " 63  MSFT220204C00420000 2022-01-25 20:57:08   420.0       0.02  0.0  0.0   \n",
       " 64  MSFT220204C00425000 2022-01-27 14:46:09   425.0       0.01  0.0  0.0   \n",
       " \n",
       "     change  percentChange  volume  openInterest  impliedVolatility  \\\n",
       " 0      0.0            0.0     1.0           0.0           0.000010   \n",
       " 1      0.0            0.0     NaN           0.0           0.000010   \n",
       " 2      0.0            0.0     2.0           0.0           0.000010   \n",
       " 3      0.0            0.0     1.0           0.0           0.000010   \n",
       " 4      0.0            0.0     2.0           0.0           0.000010   \n",
       " ..     ...            ...     ...           ...                ...   \n",
       " 60     0.0            0.0     1.0           0.0           0.500005   \n",
       " 61     0.0            0.0    24.0           0.0           0.500005   \n",
       " 62     0.0            0.0     4.0           0.0           0.500005   \n",
       " 63     0.0            0.0   271.0           0.0           0.500005   \n",
       " 64     0.0            0.0    12.0           0.0           0.500005   \n",
       " \n",
       "     inTheMoney contractSize currency  \n",
       " 0         True      REGULAR      USD  \n",
       " 1         True      REGULAR      USD  \n",
       " 2         True      REGULAR      USD  \n",
       " 3         True      REGULAR      USD  \n",
       " 4         True      REGULAR      USD  \n",
       " ..         ...          ...      ...  \n",
       " 60       False      REGULAR      USD  \n",
       " 61       False      REGULAR      USD  \n",
       " 62       False      REGULAR      USD  \n",
       " 63       False      REGULAR      USD  \n",
       " 64       False      REGULAR      USD  \n",
       " \n",
       " [65 rows x 14 columns],\n",
       " 'puts':          contractSymbol       lastTradeDate  strike  lastPrice  bid  ask  \\\n",
       " 0   MSFT220204P00200000 2022-01-28 20:57:57   200.0       0.01  0.0  0.0   \n",
       " 1   MSFT220204P00205000 2022-01-28 20:23:41   205.0       0.01  0.0  0.0   \n",
       " 2   MSFT220204P00210000 2022-01-28 20:57:47   210.0       0.02  0.0  0.0   \n",
       " 3   MSFT220204P00215000 2022-01-28 20:59:18   215.0       0.02  0.0  0.0   \n",
       " 4   MSFT220204P00220000 2022-01-28 20:58:55   220.0       0.02  0.0  0.0   \n",
       " ..                  ...                 ...     ...        ...  ...  ...   \n",
       " 59  MSFT220204P00385000 2022-01-26 19:14:32   385.0      82.70  0.0  0.0   \n",
       " 60  MSFT220204P00400000 2022-01-21 15:13:33   400.0     101.00  0.0  0.0   \n",
       " 61  MSFT220204P00405000 2022-01-28 14:33:46   405.0     107.30  0.0  0.0   \n",
       " 62  MSFT220204P00410000 2022-01-26 19:14:43   410.0     108.20  0.0  0.0   \n",
       " 63  MSFT220204P00425000 2022-01-26 19:40:12   425.0     121.76  0.0  0.0   \n",
       " \n",
       "     change  percentChange  volume  openInterest  impliedVolatility  \\\n",
       " 0      0.0            0.0    1407           0.0           0.500005   \n",
       " 1      0.0            0.0    2239           0.0           0.500005   \n",
       " 2      0.0            0.0    1000           0.0           0.500005   \n",
       " 3      0.0            0.0    1706           0.0           0.500005   \n",
       " 4      0.0            0.0    1852           0.0           0.500005   \n",
       " ..     ...            ...     ...           ...                ...   \n",
       " 59     0.0            0.0       1           0.0           0.000010   \n",
       " 60     0.0            0.0       1           0.0           0.000010   \n",
       " 61     0.0            0.0       1           0.0           0.000010   \n",
       " 62     0.0            0.0       1           0.0           0.000010   \n",
       " 63     0.0            0.0       1           0.0           0.000010   \n",
       " \n",
       "     inTheMoney contractSize currency  \n",
       " 0        False      REGULAR      USD  \n",
       " 1        False      REGULAR      USD  \n",
       " 2        False      REGULAR      USD  \n",
       " 3        False      REGULAR      USD  \n",
       " 4        False      REGULAR      USD  \n",
       " ..         ...          ...      ...  \n",
       " 59        True      REGULAR      USD  \n",
       " 60        True      REGULAR      USD  \n",
       " 61        True      REGULAR      USD  \n",
       " 62        True      REGULAR      USD  \n",
       " 63        True      REGULAR      USD  \n",
       " \n",
       " [64 rows x 14 columns],\n",
       " 'capital': 0,\n",
       " '_shares': 0,\n",
       " 'contracts': []}"
      ]
     },
     "execution_count": 90,
     "metadata": {},
     "output_type": "execute_result"
    }
   ],
   "source": [
    "msft.__dict__"
   ]
  },
  {
   "cell_type": "code",
   "execution_count": null,
   "id": "73bfa086",
   "metadata": {},
   "outputs": [],
   "source": [
    "print(type(bought_put))\n",
    "isinstance(bought_put, Holdings)"
   ]
  },
  {
   "cell_type": "code",
   "execution_count": null,
   "id": "34bd6c1e",
   "metadata": {},
   "outputs": [],
   "source": []
  },
  {
   "cell_type": "code",
   "execution_count": null,
   "id": "15b50fb3",
   "metadata": {},
   "outputs": [],
   "source": []
  }
 ],
 "metadata": {
  "kernelspec": {
   "display_name": "Python 3 (ipykernel)",
   "language": "python",
   "name": "python3"
  },
  "language_info": {
   "codemirror_mode": {
    "name": "ipython",
    "version": 3
   },
   "file_extension": ".py",
   "mimetype": "text/x-python",
   "name": "python",
   "nbconvert_exporter": "python",
   "pygments_lexer": "ipython3",
   "version": "3.9.7"
  },
  "toc": {
   "base_numbering": 1,
   "nav_menu": {},
   "number_sections": true,
   "sideBar": true,
   "skip_h1_title": false,
   "title_cell": "Table of Contents",
   "title_sidebar": "Contents",
   "toc_cell": false,
   "toc_position": {
    "height": "calc(100% - 180px)",
    "left": "10px",
    "top": "150px",
    "width": "245.76px"
   },
   "toc_section_display": true,
   "toc_window_display": false
  },
  "varInspector": {
   "cols": {
    "lenName": 16,
    "lenType": 16,
    "lenVar": 40
   },
   "kernels_config": {
    "python": {
     "delete_cmd_postfix": "",
     "delete_cmd_prefix": "del ",
     "library": "var_list.py",
     "varRefreshCmd": "print(var_dic_list())"
    },
    "r": {
     "delete_cmd_postfix": ") ",
     "delete_cmd_prefix": "rm(",
     "library": "var_list.r",
     "varRefreshCmd": "cat(var_dic_list()) "
    }
   },
   "types_to_exclude": [
    "module",
    "function",
    "builtin_function_or_method",
    "instance",
    "_Feature"
   ],
   "window_display": false
  }
 },
 "nbformat": 4,
 "nbformat_minor": 5
}
